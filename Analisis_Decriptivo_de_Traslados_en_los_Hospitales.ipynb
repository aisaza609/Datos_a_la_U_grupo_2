{
  "nbformat": 4,
  "nbformat_minor": 0,
  "metadata": {
    "colab": {
      "provenance": [],
      "toc_visible": true,
      "mount_file_id": "1X1zZ-OYG5nxNJurVllCUp3XuLkAcf2vi",
      "authorship_tag": "ABX9TyPeLqETk259RpVIlLq3CFts",
      "include_colab_link": true
    },
    "kernelspec": {
      "name": "python3",
      "display_name": "Python 3"
    },
    "language_info": {
      "name": "python"
    }
  },
  "cells": [
    {
      "cell_type": "markdown",
      "metadata": {
        "id": "view-in-github",
        "colab_type": "text"
      },
      "source": [
        "<a href=\"https://colab.research.google.com/github/aisaza609/Datos_a_la_U_grupo_2/blob/main/Analisis_Decriptivo_de_Traslados_en_los_Hospitales.ipynb\" target=\"_parent\"><img src=\"https://colab.research.google.com/assets/colab-badge.svg\" alt=\"Open In Colab\"/></a>"
      ]
    },
    {
      "cell_type": "code",
      "execution_count": null,
      "metadata": {
        "id": "thnId3FFs1Uk"
      },
      "outputs": [],
      "source": [
        "import warnings\n",
        "warnings.filterwarnings('ignore')\n",
        "\n",
        "import numpy as np\n",
        "import pandas as pd\n",
        "import requests\n",
        "import matplotlib.pyplot as plt\n",
        "import seaborn as sns\n",
        "from matplotlib.colors import ListedColormap\n",
        "from sklearn.model_selection import train_test_split\n",
        "from scipy.stats import boxcox\n",
        "from sklearn.pipeline import Pipeline\n",
        "from sklearn.preprocessing import StandardScaler\n",
        "from sklearn.neighbors import KNeighborsClassifier\n",
        "from sklearn.svm import SVC\n",
        "from sklearn.model_selection import GridSearchCV, StratifiedKFold\n",
        "from sklearn.metrics import classification_report, accuracy_score\n",
        "from sklearn.tree import DecisionTreeClassifier\n",
        "from sklearn.ensemble import RandomForestClassifier\n",
        "from sklearn.metrics import confusion_matrix\n",
        "from sklearn.linear_model import LinearRegression\n",
        "from sklearn.preprocessing import LabelEncoder\n",
        "from sklearn.preprocessing import OneHotEncoder\n",
        "import io\n",
        "from io import BytesIO\n",
        "\n",
        "%matplotlib inline"
      ]
    },
    {
      "cell_type": "markdown",
      "source": [
        "# Dataset Itagui"
      ],
      "metadata": {
        "id": "8nwnz_mJu2SX"
      }
    },
    {
      "cell_type": "markdown",
      "source": [
        "Usamos el dataset de itagui de: https://www.datos.gov.co/Salud-y-Protecci-n-Social/Morbilidad-por-EAPB-2021/echz-i3bm/about_data. El hospital es el ESE Hospital San Rafael Itagüí Antioquia."
      ],
      "metadata": {
        "id": "eSmVLqzn36Wp"
      }
    },
    {
      "cell_type": "code",
      "source": [
        "# Read dataset\n",
        "\n",
        "# URL base de la API\n",
        "base_url3='https://www.datos.gov.co/resource/echz-i3bm.csv'\n",
        "\n",
        "# Parámetros para paginación\n",
        "limit = 1000  # Máximo número de filas por consulta\n",
        "offset = 0  # Iniciar desde la primera fila\n",
        "all_data = []  # Lista para almacenar los bloques de datos\n",
        "\n",
        "# Bucle para descargar el dataset completo\n",
        "while True:\n",
        "    # Configurar los parámetros para la consulta\n",
        "    params = {\n",
        "        '$limit': limit,\n",
        "        '$offset': offset\n",
        "    }\n",
        "\n",
        "    # Realizar la solicitud a la API con paginación\n",
        "    response = requests.get(base_url3, params=params)\n",
        "\n",
        "    # Convertir la respuesta a texto y luego a DataFrame\n",
        "    data = pd.read_csv(io.StringIO(response.text))\n",
        "\n",
        "    # Si el bloque de datos está vacío, hemos llegado al final\n",
        "    if data.empty:\n",
        "        break\n",
        "\n",
        "    # Agregar el bloque de datos a la lista\n",
        "    all_data.append(data)\n",
        "\n",
        "    # Aumentar el offset para el siguiente bloque\n",
        "    offset += limit\n",
        "\n",
        "# Combinar todos los bloques en un solo DataFrame\n",
        "tg_itagui = pd.concat(all_data, ignore_index=True)\n",
        "\n",
        "# Muestra la base de datos\n",
        "tg_itagui"
      ],
      "metadata": {
        "id": "KWJtnxMzu-A8"
      },
      "execution_count": null,
      "outputs": []
    },
    {
      "cell_type": "code",
      "source": [
        "tg_itagui.columns.tolist() #mostramos los nombres de las columnas"
      ],
      "metadata": {
        "id": "1iw6yOuXsKUF"
      },
      "execution_count": null,
      "outputs": []
    },
    {
      "cell_type": "code",
      "source": [
        "print(\" \\nDataset shape (rows, cols): \\n\\n\",\n",
        "      tg_itagui.shape)\n",
        "print(\" \\nCount total NaN at each column in the dataset : \\n\\n\",\n",
        "      tg_itagui.isnull().sum())"
      ],
      "metadata": {
        "id": "uhVNZBbLvEmA"
      },
      "execution_count": null,
      "outputs": []
    },
    {
      "cell_type": "code",
      "source": [
        "porcentaje_nulos = tg_itagui['COD_DX'].isnull().mean() * 100 ##Ver el porcentaje de nulos en la columna\n",
        "print(f'Porcentaje de nulos: {porcentaje_nulos:.2f}%')\n",
        "print(tg_itagui.COD_DX.isnull().sum())"
      ],
      "metadata": {
        "id": "BrfYSzXXvLVZ"
      },
      "execution_count": null,
      "outputs": []
    },
    {
      "cell_type": "code",
      "source": [
        "tg_itagui.ENTIDAD.value_counts() #mostramos la informacion de las columnas"
      ],
      "metadata": {
        "id": "wTXue91wv00e"
      },
      "execution_count": null,
      "outputs": []
    },
    {
      "cell_type": "code",
      "source": [
        "import pandas as pd\n",
        "\n",
        "# Lista de palabras clave para identificar aseguradoras en el régimen del hospital\n",
        "aseguradoras_keywords = [\n",
        "    'POSITIVA', 'COLMENA', 'EQUIDAD', 'BOLIVAR', 'SURA', 'SOLIDARIA',\n",
        "    'MUNDIAL', 'QBE', 'GENERALI', 'LIBERTY', 'COLPATRIA', 'SOAT'\n",
        "]\n",
        "\n",
        "# Lista de nombres específicos de empresas que están en el régimen\n",
        "empresas_especificas = [\n",
        "    'NUEVA EPS', 'ALIANZA MEDELLIN ANTIOQUIA SAS'\n",
        "]\n",
        "\n",
        "# Crear la columna 'RegimenHospital' y asignar 1 a las entidades que contienen las palabras clave o están en la lista específica\n",
        "tg_itagui['RegimenHospital'] = tg_itagui['ENTIDAD'].apply(\n",
        "    lambda x: 1 if any(keyword in x for keyword in aseguradoras_keywords) or x in empresas_especificas else 0\n",
        ")\n",
        "\n",
        "# Verificar las entidades que ahora están dentro del régimen\n",
        "entidades_regimen_actualizado = tg_itagui[tg_itagui['RegimenHospital'] == 1]['ENTIDAD'].unique()\n",
        "print(\"Entidades en el régimen:\", entidades_regimen_actualizado)\n",
        "\n",
        "\n"
      ],
      "metadata": {
        "id": "x0LaE4BbD8do"
      },
      "execution_count": null,
      "outputs": []
    },
    {
      "cell_type": "code",
      "source": [
        "# Obtener la lista única de entidades que actualmente tienen el valor 0 en 'RegimenHospital'\n",
        "entidades_no_regimen = tg_itagui[tg_itagui['RegimenHospital'] == 0]['ENTIDAD'].unique()\n",
        "\n",
        "# Mostrar la lista de entidades que no están en el régimen\n",
        "print(\"Entidades que no están en el régimen:\", entidades_no_regimen)\n"
      ],
      "metadata": {
        "id": "DCJAnGHRFB9n"
      },
      "execution_count": null,
      "outputs": []
    },
    {
      "cell_type": "code",
      "source": [
        "# Calcular el porcentaje de entidades que no están en el régimen (RegimenHospital = 0)\n",
        "porcentaje_no_regimen = (tg_itagui['RegimenHospital'].value_counts(normalize=True)[0]) * 100\n",
        "\n",
        "# Mostrar el porcentaje\n",
        "print(\"Porcentaje de entidades no incluidas en el régimen:\", porcentaje_no_regimen)\n"
      ],
      "metadata": {
        "id": "Xe56SNx4GGhs"
      },
      "execution_count": null,
      "outputs": []
    },
    {
      "cell_type": "code",
      "source": [
        "import matplotlib.pyplot as plt\n",
        "\n",
        "# Calcular el porcentaje de entidades en régimen y fuera de régimen\n",
        "porcentaje_en_regimen = (tg_itagui['RegimenHospital'].value_counts(normalize=True)[1]) * 100\n",
        "porcentaje_fuera_regimen = (tg_itagui['RegimenHospital'].value_counts(normalize=True)[0]) * 100\n",
        "\n",
        "# Crear el gráfico de comparación\n",
        "fig, ax = plt.subplots(figsize=(8, 6))\n",
        "\n",
        "# Gráfico de barras con porcentajes\n",
        "ax.bar(['En Régimen', 'Fuera de Régimen'], [porcentaje_en_regimen, porcentaje_fuera_regimen], color=['blue', 'orange'])\n",
        "ax.set_title('Porcentaje de Entidades en Régimen vs. Fuera de Régimen')\n",
        "ax.set_ylabel('Porcentaje')\n",
        "\n",
        "# Añadir etiquetas de porcentaje encima de cada barra\n",
        "for i, v in enumerate([porcentaje_en_regimen, porcentaje_fuera_regimen]):\n",
        "    ax.text(i, v + 1, f\"{v:.2f}%\", ha='center', fontweight='bold')\n",
        "\n",
        "plt.tight_layout()\n",
        "plt.show()\n",
        "\n"
      ],
      "metadata": {
        "id": "R79B0xS9FycG"
      },
      "execution_count": null,
      "outputs": []
    },
    {
      "cell_type": "markdown",
      "source": [
        "# DATASET DE PASTO"
      ],
      "metadata": {
        "id": "KZTemCYHGDb_"
      }
    },
    {
      "cell_type": "code",
      "source": [
        "# Read dataset\n",
        "\n",
        "# URL base de la API\n",
        "base_url4='https://www.datos.gov.co/resource/emmz-uf6m.csv'\n",
        "\n",
        "# Parámetros para paginación\n",
        "limit = 1000  # Máximo número de filas por consulta\n",
        "offset = 0  # Iniciar desde la primera fila\n",
        "all_data = []  # Lista para almacenar los bloques de datos\n",
        "\n",
        "# Bucle para descargar el dataset completo\n",
        "while True:\n",
        "    # Configurar los parámetros para la consulta\n",
        "    params = {\n",
        "        '$limit': limit,\n",
        "        '$offset': offset\n",
        "    }\n",
        "\n",
        "    # Realizar la solicitud a la API con paginación\n",
        "    response = requests.get(base_url4, params=params)\n",
        "\n",
        "    # Convertir la respuesta a texto y luego a DataFrame\n",
        "    data = pd.read_csv(io.StringIO(response.text))\n",
        "\n",
        "    # Si el bloque de datos está vacío, hemos llegado al final\n",
        "    if data.empty:\n",
        "        break\n",
        "\n",
        "    # Agregar el bloque de datos a la lista\n",
        "    all_data.append(data)\n",
        "\n",
        "    # Aumentar el offset para el siguiente bloque\n",
        "    offset += limit\n",
        "\n",
        "# Combinar todos los bloques en un solo DataFrame\n",
        "tg_pasto = pd.concat(all_data, ignore_index=True)\n",
        "\n",
        "# Muestra la base de datos\n",
        "tg_pasto\n",
        "\n"
      ],
      "metadata": {
        "id": "TJxpn7DIGHGy"
      },
      "execution_count": null,
      "outputs": []
    },
    {
      "cell_type": "code",
      "source": [
        "df_pasto.columns.tolist() #mostramos los nombres de las columnas"
      ],
      "metadata": {
        "id": "v3LJ8LxdGaPh"
      },
      "execution_count": null,
      "outputs": []
    },
    {
      "cell_type": "code",
      "source": [
        "df_pasto.Objeto_Remision.value_counts() #mostramos la informacion de las columnas"
      ],
      "metadata": {
        "id": "71eFDRAVHtVP"
      },
      "execution_count": null,
      "outputs": []
    },
    {
      "cell_type": "code",
      "source": [
        "# Agregar una nueva columna 'NivelHospital' con el valor 1 en todo el dataset\n",
        "df_pasto['NivelHospital'] = 1\n",
        "\n",
        "# Mostrar las primeras filas para verificar la nueva columna\n",
        "df_pasto.head()\n"
      ],
      "metadata": {
        "id": "WuIqDkt0IhjF"
      },
      "execution_count": null,
      "outputs": []
    },
    {
      "cell_type": "code",
      "source": [
        "\n",
        "# Definir el mapeo de especialidades a niveles de atención\n",
        "nivel_atencion_map = {\n",
        "    \"nivel 1\": [\"medicina general\", \"nutricion\", \"optometria\", \"psicologia\", \"terapia fisica\", \"rehabilitacion\"],\n",
        "    \"nivel 2\": [\"medicina interna\", \"cirugia general\", \"ortopedia\", \"ginecologia\", \"pediatria\", \"urologia\", \"psiquiatria\", \"alergologia\"],\n",
        "    \"nivel 3\": [\"cardiologia\", \"cirugia plastica\", \"cirugia vascular\", \"dermatologia\", \"endocrinologia\", \"fisiatria\",\n",
        "                \"gastroenterologia\", \"genetica\", \"hematologia\", \"nefrologia\", \"neumologia\", \"neurocirugia\",\n",
        "                \"neurologia\", \"neuropediatria\", \"oftalmologia\", \"oncologia\", \"otorrinolaringologia\", \"reumatologia\"]\n",
        "}\n",
        "\n",
        "# Función para asignar el nivel de atención según el objeto de remisión\n",
        "def asignar_nivel_atencion(objeto_remision):\n",
        "    objeto_remision_lower = str(objeto_remision).lower()  # Convertir a minúsculas para comparación\n",
        "    for nivel, especialidades in nivel_atencion_map.items():\n",
        "        if any(especialidad in objeto_remision_lower for especialidad in especialidades):\n",
        "            return int(nivel.split()[-1])  # Devolver solo el número de nivel\n",
        "    return None  # Si no se encuentra, devolver None\n",
        "\n",
        "# Aplicar la función para crear la columna 'NiveldeAtencionNecesario'\n",
        "df_pasto['NiveldeAtencionNecesario'] = df_pasto['Objeto_Remision'].apply(asignar_nivel_atencion)\n",
        "\n",
        "# Guardar el dataset actualizado\n",
        "df_pasto.to_csv('Remisiones_de_pacientes_pasto_con_nivel.csv', index=False)\n",
        "\n",
        "# Mostrar el conteo de niveles asignados para verificar\n",
        "print(df_pasto['NiveldeAtencionNecesario'].value_counts())\n",
        "\n"
      ],
      "metadata": {
        "id": "k7n95c56KrGa"
      },
      "execution_count": null,
      "outputs": []
    },
    {
      "cell_type": "code",
      "source": [
        "df_pasto.NiveldeAtencionNecesario.value_counts() #mostramos la informacion de las columnas"
      ],
      "metadata": {
        "id": "kNScsqJcMt43"
      },
      "execution_count": null,
      "outputs": []
    },
    {
      "cell_type": "code",
      "source": [
        "import matplotlib.pyplot as plt\n",
        "\n",
        "# Definir el nivel del hospital\n",
        "nivel_hospital = 1\n",
        "\n",
        "# Crear la columna 'Traslado' con la lógica actualizada\n",
        "def definir_traslado(nivel_necesario):\n",
        "    if nivel_necesario == nivel_hospital:\n",
        "        return 0  # No se necesita traslado\n",
        "    elif nivel_necesario == 2:\n",
        "        return 1  # Traslado a un hospital de nivel 2\n",
        "    elif nivel_necesario == 3:\n",
        "        return 2  # Traslado a un hospital de nivel 3\n",
        "    return None  # Para casos donde el nivel no esté definido\n",
        "\n",
        "# Aplicar la función para crear la columna 'Traslado'\n",
        "df_pasto['Traslado'] = df_pasto['NiveldeAtencionNecesario'].apply(definir_traslado)\n",
        "\n",
        "# Calcular los porcentajes de cada tipo de traslado\n",
        "porcentaje_no_traslado = (df_pasto['Traslado'].value_counts(normalize=True)[0]) * 100\n",
        "porcentaje_traslado_nivel_2 = (df_pasto['Traslado'].value_counts(normalize=True).get(1, 0)) * 100\n",
        "porcentaje_traslado_nivel_3 = (df_pasto['Traslado'].value_counts(normalize=True).get(2, 0)) * 100\n",
        "\n",
        "# Crear un DataFrame de comparación para visualización\n",
        "comparacion_traslado = pd.DataFrame({\n",
        "    'Categoria': ['Sin Traslado', 'Traslado a Nivel 2', 'Traslado a Nivel 3'],\n",
        "    'Porcentaje': [porcentaje_no_traslado, porcentaje_traslado_nivel_2, porcentaje_traslado_nivel_3]\n",
        "})\n",
        "\n",
        "# Gráfico de comparación de porcentajes de traslado\n",
        "fig, ax = plt.subplots(figsize=(10, 6))\n",
        "ax.bar(comparacion_traslado['Categoria'], comparacion_traslado['Porcentaje'], color=['green', 'orange', 'red'])\n",
        "ax.set_title('Porcentaje de Traslados Necesarios')\n",
        "ax.set_ylabel('Porcentaje')\n",
        "\n",
        "# Añadir etiquetas de porcentaje encima de cada barra\n",
        "for i, v in enumerate(comparacion_traslado['Porcentaje']):\n",
        "    ax.text(i, v + 1, f\"{v:.2f}%\", ha='center', fontweight='bold')\n",
        "\n",
        "plt.show()\n",
        "\n",
        "# Verificar la nueva columna y el porcentaje de traslados\n",
        "print(\"Porcentaje sin traslado:\", porcentaje_no_traslado)\n",
        "print(\"Porcentaje traslado a nivel 2:\", porcentaje_traslado_nivel_2)\n",
        "print(\"Porcentaje traslado a nivel 3:\", porcentaje_traslado_nivel_3)\n"
      ],
      "metadata": {
        "id": "A8906dJfM3K1"
      },
      "execution_count": null,
      "outputs": []
    },
    {
      "cell_type": "code",
      "source": [
        "import pandas as pd\n",
        "import matplotlib.pyplot as plt\n",
        "\n",
        "# Suponiendo que tienes una columna 'Edad' y ya tienes 'Traslado' en el dataset\n",
        "# Crear los rangos de edad\n",
        "df_pasto['RangoEdad'] = pd.cut(df_pasto['Edad'], bins=[0, 17, 35, 50, 65, 100],\n",
        "                               labels=['Menores de 18', '18-35', '36-50', '51-65', 'Mayores de 65'])\n",
        "\n",
        "# Calcular el porcentaje de cada tipo de traslado por rango de edad\n",
        "traslados_por_edad = df_pasto.groupby(['RangoEdad', 'Traslado']).size().unstack(fill_value=0)\n",
        "traslados_por_edad = traslados_por_edad.div(traslados_por_edad.sum(axis=1), axis=0) * 100\n",
        "\n",
        "# Crear el gráfico\n",
        "traslados_por_edad.plot(kind='bar', stacked=True, color=['green', 'orange', 'red'], figsize=(10, 6))\n",
        "plt.title('Porcentaje de Traslados por Rango de Edad y Nivel de Atención Requerido')\n",
        "plt.xlabel('Rango de Edad')\n",
        "plt.ylabel('Porcentaje')\n",
        "plt.legend(['Sin Traslado', 'Traslado a Nivel 2', 'Traslado a Nivel 3'], title='Tipo de Traslado')\n",
        "plt.show()\n"
      ],
      "metadata": {
        "id": "uW7iyo7xQ8y8"
      },
      "execution_count": null,
      "outputs": []
    },
    {
      "cell_type": "code",
      "source": [
        "# Calcular los porcentajes totales de cada tipo de traslado en el dataset completo para verificar la distribución general\n",
        "traslado_counts = df_pasto['Traslado'].value_counts(normalize=True) * 100\n",
        "\n",
        "# Verificar la cantidad de cada tipo de traslado (sin traslado, traslado a nivel 2, traslado a nivel 3) en porcentaje\n",
        "porcentaje_sin_traslado = traslado_counts.get(0, 0)  # Porcentaje de sin traslado\n",
        "porcentaje_traslado_nivel_2 = traslado_counts.get(1, 0)  # Porcentaje de traslado a nivel 2\n",
        "porcentaje_traslado_nivel_3 = traslado_counts.get(2, 0)  # Porcentaje de traslado a nivel 3\n",
        "\n",
        "porcentaje_sin_traslado, porcentaje_traslado_nivel_2, porcentaje_traslado_nivel_3\n"
      ],
      "metadata": {
        "id": "FW3YxWZVXiXv"
      },
      "execution_count": null,
      "outputs": []
    },
    {
      "cell_type": "code",
      "source": [
        "# Crear una nueva columna 'RangoEdad' con los grupos de edad especificados\n",
        "# 1: Menor de 18 años, 2: Entre 19 y 45 años, 3: 45 años en adelante\n",
        "\n",
        "df_pasto['RangoEdad'] = pd.cut(df_pasto['Edad'], bins=[0, 18, 45, 100], labels=[1, 2, 3], right=False)\n",
        "\n",
        "# Verificar la nueva columna para asegurarnos de que se creó correctamente\n",
        "df_pasto[['Edad', 'RangoEdad']].head(10)\n"
      ],
      "metadata": {
        "id": "R8GwZ1qsZirX"
      },
      "execution_count": null,
      "outputs": []
    },
    {
      "cell_type": "code",
      "source": [
        "df_pasto.RangoEdad.value_counts() #mostramos la informacion de las columnas"
      ],
      "metadata": {
        "id": "lRq0frZSaUKY"
      },
      "execution_count": null,
      "outputs": []
    },
    {
      "cell_type": "code",
      "source": [
        "import matplotlib.pyplot as plt\n",
        "import numpy as np\n",
        "import pandas as pd\n",
        "\n",
        "\n",
        "# Calcular el porcentaje de cada tipo de traslado dentro de cada rango de edad\n",
        "traslados_por_rango = df_pasto.groupby(['RangoEdad', 'Traslado']).size().unstack(fill_value=0)\n",
        "traslados_por_rango = traslados_por_rango.div(traslados_por_rango.sum(axis=1), axis=0) * 100\n",
        "\n",
        "# Configuración de las etiquetas y los colores\n",
        "categorias = ['Sin Traslado', 'Traslado a Nivel 2', 'Traslado a Nivel 3']\n",
        "bar_width = 0.25\n",
        "index = np.arange(len(traslados_por_rango))\n",
        "\n",
        "fig, ax = plt.subplots(figsize=(10, 6))\n",
        "\n",
        "# Crear barras para cada tipo de traslado en cada rango de edad\n",
        "for i, categoria in enumerate(categorias):\n",
        "    plt.bar(index + i * bar_width, traslados_por_rango[i], bar_width, label=categoria)\n",
        "\n",
        "# Configurar etiquetas y diseño\n",
        "ax.set_xlabel('Rango de Edad')\n",
        "ax.set_ylabel('Porcentaje de Traslados')\n",
        "ax.set_title('Distribución de Traslados por Rango de Edad')\n",
        "ax.set_xticks(index + bar_width)\n",
        "ax.set_xticklabels(['Menores de 18', '18-45', '45 en adelante'])\n",
        "ax.legend(title=\"Tipo de Traslado\")\n",
        "\n",
        "# Ajustar el diseño de fondo\n",
        "fig.patch.set_facecolor('#DDE3FA')\n",
        "ax.set_facecolor('#F3F3FF')\n",
        "\n",
        "# Mostrar la gráfica\n",
        "plt.tight_layout()\n",
        "plt.show()\n"
      ],
      "metadata": {
        "id": "_OPn-JC_ag8H"
      },
      "execution_count": null,
      "outputs": []
    },
    {
      "cell_type": "code",
      "source": [
        "import matplotlib.pyplot as plt\n",
        "import numpy as np\n",
        "import pandas as pd\n",
        "\n",
        "# Calcular el porcentaje de cada tipo de traslado dentro de cada rango de edad\n",
        "traslados_por_rango = df_pasto.groupby(['RangoEdad', 'Traslado']).size().unstack(fill_value=0)\n",
        "traslados_por_rango = traslados_por_rango.div(traslados_por_rango.sum(axis=1), axis=0) * 100\n",
        "\n",
        "# Configuración de las etiquetas y los colores\n",
        "categorias = ['Sin Traslado', 'Traslado a Nivel 2', 'Traslado a Nivel 3']\n",
        "bar_width = 0.25\n",
        "index = np.arange(len(traslados_por_rango))\n",
        "\n",
        "fig, ax = plt.subplots(figsize=(10, 6))\n",
        "\n",
        "# Crear barras para cada tipo de traslado en cada rango de edad\n",
        "for i, categoria in enumerate(categorias):\n",
        "    barras = plt.bar(index + i * bar_width, traslados_por_rango[i], bar_width, label=categoria)\n",
        "\n",
        "    # Agregar etiquetas de porcentaje encima de cada barra\n",
        "    for bar in barras:\n",
        "        yval = bar.get_height()\n",
        "        ax.text(bar.get_x() + bar.get_width() / 2, yval + 1, f\"{yval:.2f}%\", ha='center', va='bottom', fontweight='bold')\n",
        "\n",
        "# Configurar etiquetas y diseño\n",
        "ax.set_xlabel('Rango de Edad')\n",
        "ax.set_ylabel('Porcentaje de Traslados')\n",
        "ax.set_title('Distribución de Traslados por Rango de Edad')\n",
        "ax.set_xticks(index + bar_width)\n",
        "ax.set_xticklabels(['Menores de 18', '18-45', '45 en adelante'])\n",
        "ax.legend(title=\"Tipo de Traslado\")\n",
        "\n",
        "# Ajustar el diseño de fondo\n",
        "fig.patch.set_facecolor('#DDE3FA')\n",
        "ax.set_facecolor('#F3F3FF')\n",
        "\n",
        "# Mostrar la gráfica\n",
        "plt.tight_layout()\n",
        "plt.show()\n"
      ],
      "metadata": {
        "id": "85KrbIksarFZ"
      },
      "execution_count": null,
      "outputs": []
    },
    {
      "cell_type": "code",
      "source": [
        "# Ordenar la tabla por el porcentaje de traslados a Nivel 2 y Nivel 3 y filtrar los de mayor frecuencia (por ejemplo, los primeros 5 de cada nivel)\n",
        "\n",
        "# Ordenar y filtrar por porcentaje de traslados a Nivel 2\n",
        "top_nivel_2 = tabla_traslados_por_nivel[['Objeto_Remision', 'Porcentaje Nivel 2']].sort_values(by='Porcentaje Nivel 2', ascending=False).head(5)\n",
        "\n",
        "# Ordenar y filtrar por porcentaje de traslados a Nivel 3\n",
        "top_nivel_3 = tabla_traslados_por_nivel[['Objeto_Remision', 'Porcentaje Nivel 3']].sort_values(by='Porcentaje Nivel 3', ascending=False).head(5)\n",
        "\n",
        "# Mostrar las tablas ordenadas\n",
        "top_nivel_2, top_nivel_3\n",
        "\n"
      ],
      "metadata": {
        "id": "VauOxdRobz5K"
      },
      "execution_count": null,
      "outputs": []
    },
    {
      "cell_type": "code",
      "source": [
        "import pandas as pd\n",
        "\n",
        "# Calcular el porcentaje de cada tipo de traslado por especialidad médica\n",
        "traslados_por_especialidad = df_pasto.groupby(['Objeto_Remision', 'Traslado']).size().unstack(fill_value=0)\n",
        "traslados_por_especialidad = traslados_por_especialidad.div(traslados_por_especialidad.sum(axis=1), axis=0) * 100\n",
        "\n",
        "# Mostrar la tabla resultante\n",
        "print(\"Porcentaje de Traslados por Especialidad Médica:\")\n",
        "print(traslados_por_especialidad)\n"
      ],
      "metadata": {
        "id": "2nJ6Vigar199"
      },
      "execution_count": null,
      "outputs": []
    },
    {
      "cell_type": "code",
      "source": [
        "import pandas as pd\n",
        "\n",
        "# Calcular el total de pacientes por especialidad\n",
        "traslados_por_especialidad_total = df_pasto.groupby('Objeto_Remision').size()\n",
        "traslados_por_especialidad = df_pasto.groupby(['Objeto_Remision', 'Traslado']).size().unstack(fill_value=0)\n",
        "\n",
        "# Calcular los porcentajes de traslados por especialidad\n",
        "traslados_por_especialidad['Total Pacientes'] = traslados_por_especialidad_total\n",
        "traslados_por_especialidad['Porcentaje Sin Traslado'] = (traslados_por_especialidad[0] / traslados_por_especialidad['Total Pacientes']) * 100\n",
        "traslados_por_especialidad['Porcentaje Traslado Nivel 2'] = (traslados_por_especialidad[1] / traslados_por_especialidad['Total Pacientes']) * 100\n",
        "traslados_por_especialidad['Porcentaje Traslado Nivel 3'] = (traslados_por_especialidad[2] / traslados_por_especialidad['Total Pacientes']) * 100\n",
        "\n",
        "# Seleccionar y organizar las columnas relevantes para la tabla final\n",
        "tabla_traslados = traslados_por_especialidad[['Total Pacientes', 'Porcentaje Sin Traslado', 'Porcentaje Traslado Nivel 2', 'Porcentaje Traslado Nivel 3']]\n",
        "tabla_traslados.reset_index(inplace=True)\n",
        "\n",
        "# Mostrar la tabla final\n",
        "print(\"Tabla de Porcentajes de Traslados por Especialidad:\")\n",
        "print(tabla_traslados)\n",
        "\n"
      ],
      "metadata": {
        "id": "3Vb13yvRr2TN"
      },
      "execution_count": null,
      "outputs": []
    }
  ]
}