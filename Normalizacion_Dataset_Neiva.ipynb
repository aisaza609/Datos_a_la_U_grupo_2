{
  "nbformat": 4,
  "nbformat_minor": 0,
  "metadata": {
    "colab": {
      "provenance": [],
      "authorship_tag": "ABX9TyMKInlRQ+WduRHwNYFwcX//",
      "include_colab_link": true
    },
    "kernelspec": {
      "name": "python3",
      "display_name": "Python 3"
    },
    "language_info": {
      "name": "python"
    }
  },
  "cells": [
    {
      "cell_type": "markdown",
      "metadata": {
        "id": "view-in-github",
        "colab_type": "text"
      },
      "source": [
        "<a href=\"https://colab.research.google.com/github/aisaza609/Datos_a_la_U_grupo_2/blob/main/Normalizacion_Dataset_Neiva.ipynb\" target=\"_parent\"><img src=\"https://colab.research.google.com/assets/colab-badge.svg\" alt=\"Open In Colab\"/></a>"
      ]
    },
    {
      "cell_type": "code",
      "source": [
        "import warnings\n",
        "warnings.filterwarnings('ignore')\n",
        "\n",
        "import numpy as np\n",
        "import pandas as pd\n",
        "import requests\n",
        "import matplotlib.pyplot as plt\n",
        "import seaborn as sns\n",
        "from matplotlib.colors import ListedColormap\n",
        "from sklearn.model_selection import train_test_split\n",
        "from scipy.stats import boxcox\n",
        "from sklearn.pipeline import Pipeline\n",
        "from sklearn.preprocessing import StandardScaler\n",
        "from sklearn.neighbors import KNeighborsClassifier\n",
        "from sklearn.svm import SVC\n",
        "from sklearn.model_selection import GridSearchCV, StratifiedKFold\n",
        "from sklearn.metrics import classification_report, accuracy_score\n",
        "from sklearn.tree import DecisionTreeClassifier\n",
        "from sklearn.ensemble import RandomForestClassifier\n",
        "from sklearn.metrics import confusion_matrix\n",
        "from sklearn.linear_model import LinearRegression\n",
        "from sklearn.preprocessing import LabelEncoder\n",
        "from sklearn.preprocessing import OneHotEncoder\n",
        "import io\n",
        "from io import BytesIO\n",
        "import random\n",
        "import ipywidgets as widgets\n",
        "from IPython.display import display\n",
        "!pip install gdown\n",
        "import gdown\n",
        "%matplotlib inline"
      ],
      "metadata": {
        "id": "s4yU5ymoV-8t",
        "colab": {
          "base_uri": "https://localhost:8080/"
        },
        "outputId": "fe955c58-4def-48bb-b490-f3b99ccd8c63"
      },
      "execution_count": 3,
      "outputs": [
        {
          "output_type": "stream",
          "name": "stdout",
          "text": [
            "Requirement already satisfied: gdown in /usr/local/lib/python3.10/dist-packages (5.2.0)\n",
            "Requirement already satisfied: beautifulsoup4 in /usr/local/lib/python3.10/dist-packages (from gdown) (4.12.3)\n",
            "Requirement already satisfied: filelock in /usr/local/lib/python3.10/dist-packages (from gdown) (3.16.1)\n",
            "Requirement already satisfied: requests[socks] in /usr/local/lib/python3.10/dist-packages (from gdown) (2.32.3)\n",
            "Requirement already satisfied: tqdm in /usr/local/lib/python3.10/dist-packages (from gdown) (4.66.6)\n",
            "Requirement already satisfied: soupsieve>1.2 in /usr/local/lib/python3.10/dist-packages (from beautifulsoup4->gdown) (2.6)\n",
            "Requirement already satisfied: charset-normalizer<4,>=2 in /usr/local/lib/python3.10/dist-packages (from requests[socks]->gdown) (3.4.0)\n",
            "Requirement already satisfied: idna<4,>=2.5 in /usr/local/lib/python3.10/dist-packages (from requests[socks]->gdown) (3.10)\n",
            "Requirement already satisfied: urllib3<3,>=1.21.1 in /usr/local/lib/python3.10/dist-packages (from requests[socks]->gdown) (2.2.3)\n",
            "Requirement already satisfied: certifi>=2017.4.17 in /usr/local/lib/python3.10/dist-packages (from requests[socks]->gdown) (2024.8.30)\n",
            "Requirement already satisfied: PySocks!=1.5.7,>=1.5.6 in /usr/local/lib/python3.10/dist-packages (from requests[socks]->gdown) (1.7.1)\n"
          ]
        }
      ]
    },
    {
      "cell_type": "code",
      "execution_count": 4,
      "metadata": {
        "colab": {
          "base_uri": "https://localhost:8080/"
        },
        "id": "3IFkNhjmVdkQ",
        "outputId": "47625775-797a-414c-81c5-cab37719eca0"
      },
      "outputs": [
        {
          "output_type": "stream",
          "name": "stderr",
          "text": [
            "Downloading...\n",
            "From: https://drive.google.com/uc?id=1pHF94shp0VZPkBXD4QKZM1XnLq31COL5\n",
            "To: /content/df_neiva.csv\n",
            "100%|██████████| 4.24M/4.24M [00:00<00:00, 24.7MB/s]\n"
          ]
        },
        {
          "output_type": "stream",
          "name": "stdout",
          "text": [
            "  TIPO        FECHA_NACIMIENTO  MUNICIPIO SEXO COD_DX  \\\n",
            "0   CC  09/24/1972 12:00:00 AM     ITAGUI    F   D172   \n",
            "1   CC  01/29/1981 12:00:00 AM  SAN PEDRO    M   S523   \n",
            "2   CC  09/11/1973 12:00:00 AM     ITAGUI    F   S324   \n",
            "3   RC  04/07/2018 12:00:00 AM   ENVIGADO    F   J042   \n",
            "4   CC  01/03/1994 12:00:00 AM   MEDELLIN    F   S823   \n",
            "\n",
            "                                           NOMBRE_DX  \\\n",
            "0  TUMOR BENIGNO LIPOMATOSO DE PIEL Y DE TEJIDO S...   \n",
            "1                  FRACTURA DE LA DIAFISIS DEL RADIO   \n",
            "2                             FRACTURA DEL ACETABULO   \n",
            "3                            LARINGOTRAQUEITIS AGUDA   \n",
            "4       FRACTURA DE LA EPIFISIS INFERIOR DE LA TIBIA   \n",
            "\n",
            "                                            ENTIDAD  \n",
            "0                                      PARTICULARES  \n",
            "1                    SEGUROS GENERALES SURAMERICANA  \n",
            "2  ADRES (ADMINISTRADORA DE LOS RECURSOS DEL SGSSS)  \n",
            "3                        EPS SURA CONTRIBUTIVO 2020  \n",
            "4                    ALIANZA MEDELLIN ANTIOQUIA SAS  \n"
          ]
        }
      ],
      "source": [
        "# Definimos el ID del archivo de Google Drive y generamos la URL de descarga\n",
        "file_id = '1pHF94shp0VZPkBXD4QKZM1XnLq31COL5'  # Reemplaza esto con el ID del archivo en Google Drive\n",
        "url = f'https://drive.google.com/uc?id={file_id}'\n",
        "\n",
        "# Descargamos el archivo y lo guardamos con el nombre df_neiva.csv\n",
        "output = 'df_neiva.csv'\n",
        "gdown.download(url, output, quiet=False)\n",
        "\n",
        "# Cargamos el archivo en un DataFrame de pandas llamado df_neiva para empezar a trabajar con los datos\n",
        "df_neiva = pd.read_csv('df_neiva.csv')\n",
        "print(df_neiva.head())  # Verificamos las primeras filas para asegurarnos de que se cargó correctamente"
      ]
    }
  ]
}